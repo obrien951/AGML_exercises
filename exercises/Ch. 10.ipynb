{
 "cells": [
  {
   "cell_type": "markdown",
   "metadata": {},
   "source": [
    "Answer 3.\n",
    "\n",
    "a) They don't output a probability. They only output a classification based on a threshold which gets met based on learned weights that can't be interpreted, so the perceptron can only give us yes or no, and they don't tell us anything intuitive about the system under inspection.\n",
    "\n",
    "b) You can set the activation function to a logistic function. "
   ]
  },
  {
   "cell_type": "markdown",
   "metadata": {},
   "source": [
    "Answer 4.\n",
    "\n",
    "Logistic activations were attractive because they are continuous and differentiable over the entire real line. They "
   ]
  },
  {
   "cell_type": "markdown",
   "metadata": {},
   "source": [
    "Answer 5.\n",
    "\n",
    "There's the ReLU activation function, the step (heaviside function), the logistic function, and the tanh function. \n",
    "\n",
    "Yes. I can draw them."
   ]
  },
  {
   "cell_type": "markdown",
   "metadata": {},
   "source": [
    "Answer 6.\n",
    "\n",
    "\n",
    "1.) With n instances, the shape of the input matrix is n $\\times$ 10.    \n",
    "2.) W is $10 \\times 50$ in shape. b is $1 \\times 50$    \n",
    "3.) W is $50 \\times 3$ b is $1 \\times 3$    \n",
    "4.) The output matrix has shape $n \\times 3$    \n",
    "5.) $Y = ReLU(ReLU(XW_0+ B_0)W_h+b_h)$\n"
   ]
  },
  {
   "cell_type": "markdown",
   "metadata": {},
   "source": [
    "Answer 7.\n",
    "\n",
    "It takes one neuron in the ouptut layer to classify email as ham or spam. You need 10 neurons to classify the mnist data\n",
    "\n",
    "To predict housing prices, there are two ways to do this. One is to \"categorize\" shousing prices into increasingly expensive categories, and this will take $n$ neurons for $n$ levels of expense. For a regression prediction, you only need one neuron."
   ]
  },
  {
   "cell_type": "markdown",
   "metadata": {},
   "source": [
    "Answer 8.\n",
    "\n",
    "Backpropagation is a training algorithm. It efficiently computes gradients w.r.t. all weights automatically. Batches of inputs are sent through the Neural network in multiple passes called epochs. The inputs are passed through all the layers of the network, and individual outputs are saved. Output error is measured, and each output connection's contribution to the error is computed using the chain rule. The error contriburtions from the connections in the layer below are then calculated using chain rule, and a gradient descent step is then used to tweak the weights in the network.  "
   ]
  },
  {
   "cell_type": "markdown",
   "metadata": {},
   "source": [
    "Answer 9. \n",
    "\n",
    "Hyperparameters in a basic MLP:\n",
    "\n",
    "1.) number of input neurons: can be changed by adding features or by compressing the data    \n",
    "2.) number of hidden layers    \n",
    "3.) neurons per (in each) hidden layer    \n",
    "4.) Hidden layer activation function    \n",
    "5.) Output actiation    \n",
    "6.) Loss function    \n",
    "\n",
    "6.) loss functions include sparse_categorical_crossenropy, mean_squared_error    \n",
    "    __[Keras loss function documentation](https://keras.io/api/losses/)__"
   ]
  },
  {
   "cell_type": "markdown",
   "metadata": {},
   "source": [
    "### Decision to Scale\n",
    "\n",
    "The data was unscaled in a preliminary attempt. I'm leaving the choice here because a <tt> uint8 </tt> takes up $\\frac{1}{4}$ the space of a <tt> float</tt>, so the spatial savings might be worth a try without scaling the data.    \n",
    "\n",
    "Since scaling can lead to improvements, and preliminary models only marginally missed the mark, we're going to retry the same tests without scaling. You can retry the tests without scaling by setting to_scale_data to <tt>False</tt>"
   ]
  },
  {
   "cell_type": "code",
   "execution_count": 9,
   "metadata": {},
   "outputs": [],
   "source": [
    "to_scale_data = False"
   ]
  },
  {
   "cell_type": "code",
   "execution_count": 2,
   "metadata": {},
   "outputs": [],
   "source": [
    "from tensorflow import keras"
   ]
  },
  {
   "cell_type": "code",
   "execution_count": 10,
   "metadata": {},
   "outputs": [],
   "source": [
    "from sklearn.preprocessing import StandardScaler\n",
    "scaler = StandardScaler()\n",
    "\n",
    "(X_train, y_train), (X_test, y_test) = keras.datasets.mnist.load_data()\n",
    "if to_scale_data:\n",
    "    X_train = scaler.fit_transform(X_train, y_train)\n",
    "    X_test = scaler.fit_transform(X_test, y_test)"
   ]
  },
  {
   "cell_type": "code",
   "execution_count": 11,
   "metadata": {},
   "outputs": [],
   "source": [
    "def basic_mlp_mnist(n_input_neurons=784, n_hidden_layers=2, l_neurons=[30,30], h_activ=\"relu\", opt=\"adam\", met=\"accuracy\"):\n",
    "    in_l = keras.layers.Flatten(input_shape=[28,28])\n",
    "    hidden_ls = [ keras.layers.Dense(l_neurons[i], activation=h_activ) for i in range(n_hidden_layers) ]\n",
    "    out_l = keras.layers.Dense(10, activation=\"softmax\")\n",
    "    model = keras.models.Sequential([in_l] + hidden_ls + [out_l] )\n",
    "    model.compile(loss = \"sparse_categorical_crossentropy\", optimizer=opt, metrics=[met])\n",
    "    return model"
   ]
  },
  {
   "cell_type": "code",
   "execution_count": 12,
   "metadata": {},
   "outputs": [],
   "source": [
    "# function that trains @param mod with a tuple data=(X_train, y_train)\n",
    "# val: validation set\n",
    "def train_mlp(data, mod, eps=25, val = None, cbs=None):\n",
    "    if val:\n",
    "        if cbs:\n",
    "            cb_in = cbs if isinstance(cbs, list) else [cbs]\n",
    "            hist = mod.fit(data[0], data[1], epochs=eps, validation_data=val, callbacks=cb_in)\n",
    "        else:\n",
    "            hist = mod.fit(data[0], data[1], epochs=eps, validation_data=val)        \n",
    "    else:\n",
    "        hist = mod.fit(data[0], data[1], epochs=eps)\n",
    "    return hist"
   ]
  },
  {
   "cell_type": "code",
   "execution_count": 13,
   "metadata": {},
   "outputs": [
    {
     "name": "stdout",
     "output_type": "stream",
     "text": [
      "Epoch 1/25\n",
      "1875/1875 [==============================] - 2s 1ms/step - loss: 1.5993 - accuracy: 0.6819\n",
      "Epoch 2/25\n",
      "1875/1875 [==============================] - 2s 1ms/step - loss: 0.5338 - accuracy: 0.8677\n",
      "Epoch 3/25\n",
      "1875/1875 [==============================] - 2s 1ms/step - loss: 0.4512 - accuracy: 0.8850\n",
      "Epoch 4/25\n",
      "1875/1875 [==============================] - 2s 1ms/step - loss: 0.4032 - accuracy: 0.8954\n",
      "Epoch 5/25\n",
      "1875/1875 [==============================] - 2s 1ms/step - loss: 0.3798 - accuracy: 0.9014\n",
      "Epoch 6/25\n",
      "1875/1875 [==============================] - 2s 1ms/step - loss: 0.3532 - accuracy: 0.9074\n",
      "Epoch 7/25\n",
      "1875/1875 [==============================] - 2s 1ms/step - loss: 0.3364 - accuracy: 0.9122\n",
      "Epoch 8/25\n",
      "1875/1875 [==============================] - 2s 1ms/step - loss: 0.3061 - accuracy: 0.9191\n",
      "Epoch 9/25\n",
      "1875/1875 [==============================] - 2s 1ms/step - loss: 0.2925 - accuracy: 0.9215\n",
      "Epoch 10/25\n",
      "1875/1875 [==============================] - 2s 1ms/step - loss: 0.2747 - accuracy: 0.9254\n",
      "Epoch 11/25\n",
      "1875/1875 [==============================] - 2s 1ms/step - loss: 0.2578 - accuracy: 0.9283\n",
      "Epoch 12/25\n",
      "1875/1875 [==============================] - 2s 1ms/step - loss: 0.2455 - accuracy: 0.9334\n",
      "Epoch 13/25\n",
      "1875/1875 [==============================] - 3s 1ms/step - loss: 0.2332 - accuracy: 0.9355\n",
      "Epoch 14/25\n",
      "1875/1875 [==============================] - 4s 2ms/step - loss: 0.2271 - accuracy: 0.9374\n",
      "Epoch 15/25\n",
      "1875/1875 [==============================] - 4s 2ms/step - loss: 0.2143 - accuracy: 0.9398\n",
      "Epoch 16/25\n",
      "1875/1875 [==============================] - 3s 2ms/step - loss: 0.2046 - accuracy: 0.9424\n",
      "Epoch 17/25\n",
      "1875/1875 [==============================] - 3s 1ms/step - loss: 0.1960 - accuracy: 0.9452\n",
      "Epoch 18/25\n",
      "1875/1875 [==============================] - 3s 1ms/step - loss: 0.1880 - accuracy: 0.9477\n",
      "Epoch 19/25\n",
      "1875/1875 [==============================] - 3s 1ms/step - loss: 0.1833 - accuracy: 0.9498\n",
      "Epoch 20/25\n",
      "1875/1875 [==============================] - 3s 1ms/step - loss: 0.1785 - accuracy: 0.9498\n",
      "Epoch 21/25\n",
      "1875/1875 [==============================] - 3s 1ms/step - loss: 0.1725 - accuracy: 0.9521\n",
      "Epoch 22/25\n",
      "1875/1875 [==============================] - 3s 1ms/step - loss: 0.1681 - accuracy: 0.9538\n",
      "Epoch 23/25\n",
      "1875/1875 [==============================] - 2s 1ms/step - loss: 0.1676 - accuracy: 0.9535\n",
      "Epoch 24/25\n",
      "1875/1875 [==============================] - 3s 1ms/step - loss: 0.1620 - accuracy: 0.9543\n",
      "Epoch 25/25\n",
      "1875/1875 [==============================] - 3s 1ms/step - loss: 0.1612 - accuracy: 0.9551\n"
     ]
    }
   ],
   "source": [
    "model0 = basic_mlp_mnist()\n",
    "history0 = train_mlp((X_train, y_train), model0)"
   ]
  },
  {
   "cell_type": "code",
   "execution_count": 14,
   "metadata": {},
   "outputs": [
    {
     "name": "stdout",
     "output_type": "stream",
     "text": [
      "313/313 [==============================] - 0s 1ms/step - loss: 0.2272 - accuracy: 0.9448\n"
     ]
    },
    {
     "data": {
      "text/plain": [
       "[0.2272450476884842, 0.9448000192642212]"
      ]
     },
     "execution_count": 14,
     "metadata": {},
     "output_type": "execute_result"
    }
   ],
   "source": [
    "model0.evaluate(X_test, y_test)"
   ]
  },
  {
   "cell_type": "markdown",
   "metadata": {},
   "source": [
    "We can see that on our first attempt, with 2 layers, we got 94.5% accuracy. oof. Let's try adding more layers"
   ]
  },
  {
   "cell_type": "code",
   "execution_count": 15,
   "metadata": {},
   "outputs": [
    {
     "name": "stdout",
     "output_type": "stream",
     "text": [
      "Epoch 1/25\n",
      "1875/1875 [==============================] - 3s 2ms/step - loss: 0.7640 - accuracy: 0.8040\n",
      "Epoch 2/25\n",
      "1875/1875 [==============================] - 5s 3ms/step - loss: 0.2960 - accuracy: 0.9170\n",
      "Epoch 3/25\n",
      "1875/1875 [==============================] - 6s 3ms/step - loss: 0.2381 - accuracy: 0.9330\n",
      "Epoch 4/25\n",
      "1875/1875 [==============================] - 5s 3ms/step - loss: 0.2026 - accuracy: 0.9437\n",
      "Epoch 5/25\n",
      "1875/1875 [==============================] - 5s 3ms/step - loss: 0.1795 - accuracy: 0.9484\n",
      "Epoch 6/25\n",
      "1875/1875 [==============================] - 5s 3ms/step - loss: 0.1620 - accuracy: 0.9542\n",
      "Epoch 7/25\n",
      "1875/1875 [==============================] - 5s 3ms/step - loss: 0.1508 - accuracy: 0.9570\n",
      "Epoch 8/25\n",
      "1875/1875 [==============================] - 5s 3ms/step - loss: 0.1382 - accuracy: 0.9605\n",
      "Epoch 9/25\n",
      "1875/1875 [==============================] - 5s 3ms/step - loss: 0.1284 - accuracy: 0.9635\n",
      "Epoch 10/25\n",
      "1875/1875 [==============================] - 5s 3ms/step - loss: 0.1202 - accuracy: 0.9659\n",
      "Epoch 11/25\n",
      "1875/1875 [==============================] - 5s 3ms/step - loss: 0.1135 - accuracy: 0.9675\n",
      "Epoch 12/25\n",
      "1875/1875 [==============================] - 5s 3ms/step - loss: 0.1088 - accuracy: 0.9690\n",
      "Epoch 13/25\n",
      "1875/1875 [==============================] - 6s 3ms/step - loss: 0.1007 - accuracy: 0.9711\n",
      "Epoch 14/25\n",
      "1875/1875 [==============================] - 5s 3ms/step - loss: 0.0988 - accuracy: 0.9715\n",
      "Epoch 15/25\n",
      "1875/1875 [==============================] - 5s 3ms/step - loss: 0.0924 - accuracy: 0.9740\n",
      "Epoch 16/25\n",
      "1875/1875 [==============================] - 6s 3ms/step - loss: 0.0875 - accuracy: 0.9753\n",
      "Epoch 17/25\n",
      "1875/1875 [==============================] - 5s 3ms/step - loss: 0.0885 - accuracy: 0.9751\n",
      "Epoch 18/25\n",
      "1875/1875 [==============================] - 5s 3ms/step - loss: 0.0828 - accuracy: 0.9767\n",
      "Epoch 19/25\n",
      "1875/1875 [==============================] - 5s 3ms/step - loss: 0.0800 - accuracy: 0.9764\n",
      "Epoch 20/25\n",
      "1875/1875 [==============================] - 5s 3ms/step - loss: 0.0783 - accuracy: 0.9772\n",
      "Epoch 21/25\n",
      "1875/1875 [==============================] - 5s 3ms/step - loss: 0.0742 - accuracy: 0.9786\n",
      "Epoch 22/25\n",
      "1875/1875 [==============================] - 5s 2ms/step - loss: 0.0755 - accuracy: 0.9782\n",
      "Epoch 23/25\n",
      "1875/1875 [==============================] - 4s 2ms/step - loss: 0.0693 - accuracy: 0.9801\n",
      "Epoch 24/25\n",
      "1875/1875 [==============================] - 5s 2ms/step - loss: 0.0678 - accuracy: 0.9797\n",
      "Epoch 25/25\n",
      "1875/1875 [==============================] - 4s 2ms/step - loss: 0.0669 - accuracy: 0.9809\n",
      "313/313 [==============================] - 0s 2ms/step - loss: 0.1582 - accuracy: 0.9647\n"
     ]
    },
    {
     "data": {
      "text/plain": [
       "[0.15822839736938477, 0.9646999835968018]"
      ]
     },
     "execution_count": 15,
     "metadata": {},
     "output_type": "execute_result"
    }
   ],
   "source": [
    "model1 = basic_mlp_mnist( n_hidden_layers=5, l_neurons=[30,30,30,30,30])\n",
    "history1 = train_mlp((X_train, y_train), model1)\n",
    "model1.evaluate(X_test, y_test)"
   ]
  },
  {
   "cell_type": "code",
   "execution_count": 16,
   "metadata": {},
   "outputs": [
    {
     "name": "stdout",
     "output_type": "stream",
     "text": [
      "313/313 [==============================] - 0s 1ms/step - loss: 0.1582 - accuracy: 0.9647\n"
     ]
    },
    {
     "data": {
      "text/plain": [
       "[0.15822839736938477, 0.9646999835968018]"
      ]
     },
     "execution_count": 16,
     "metadata": {},
     "output_type": "execute_result"
    }
   ],
   "source": [
    "model1.evaluate(X_test, y_test)"
   ]
  },
  {
   "cell_type": "markdown",
   "metadata": {},
   "source": [
    "Tantalizingly close. We'll try 10 more epochs"
   ]
  },
  {
   "cell_type": "code",
   "execution_count": 17,
   "metadata": {},
   "outputs": [
    {
     "name": "stdout",
     "output_type": "stream",
     "text": [
      "Epoch 1/10\n",
      "1875/1875 [==============================] - 4s 2ms/step - loss: 0.0660 - accuracy: 0.9805\n",
      "Epoch 2/10\n",
      "1875/1875 [==============================] - 4s 2ms/step - loss: 0.0628 - accuracy: 0.9820\n",
      "Epoch 3/10\n",
      "1875/1875 [==============================] - 4s 2ms/step - loss: 0.0595 - accuracy: 0.9824\n",
      "Epoch 4/10\n",
      "1875/1875 [==============================] - 4s 2ms/step - loss: 0.0646 - accuracy: 0.9811\n",
      "Epoch 5/10\n",
      "1875/1875 [==============================] - 4s 2ms/step - loss: 0.0580 - accuracy: 0.9833\n",
      "Epoch 6/10\n",
      "1875/1875 [==============================] - 5s 3ms/step - loss: 0.0597 - accuracy: 0.9833\n",
      "Epoch 7/10\n",
      "1875/1875 [==============================] - 5s 2ms/step - loss: 0.0560 - accuracy: 0.9837\n",
      "Epoch 8/10\n",
      "1875/1875 [==============================] - 4s 2ms/step - loss: 0.0589 - accuracy: 0.9833\n",
      "Epoch 9/10\n",
      "1875/1875 [==============================] - 4s 2ms/step - loss: 0.0556 - accuracy: 0.9840\n",
      "Epoch 10/10\n",
      "1875/1875 [==============================] - 5s 2ms/step - loss: 0.0544 - accuracy: 0.9841\n"
     ]
    }
   ],
   "source": [
    "history_1_1 = train_mlp((X_train, y_train), model1, eps=10)"
   ]
  },
  {
   "cell_type": "code",
   "execution_count": 18,
   "metadata": {},
   "outputs": [
    {
     "name": "stdout",
     "output_type": "stream",
     "text": [
      "313/313 [==============================] - 0s 1ms/step - loss: 0.1496 - accuracy: 0.9675\n"
     ]
    },
    {
     "data": {
      "text/plain": [
       "[0.1495937556028366, 0.9674999713897705]"
      ]
     },
     "execution_count": 18,
     "metadata": {},
     "output_type": "execute_result"
    }
   ],
   "source": [
    "model1.evaluate(X_test, y_test)"
   ]
  },
  {
   "cell_type": "markdown",
   "metadata": {},
   "source": [
    "We got some imporvement by simply including more layers. We'll try some best practices here and split our training set into training and validation. We'll use the <tt> train_test_split </tt> and then pass it to our training function."
   ]
  },
  {
   "cell_type": "code",
   "execution_count": 19,
   "metadata": {},
   "outputs": [],
   "source": [
    "from sklearn.model_selection import train_test_split\n",
    "#bp for best practices\n",
    "#We'll be using default parameters here. We can \n",
    "X_train_bp, X_valid, y_train_bp, y_valid = train_test_split(X_train, y_train)"
   ]
  },
  {
   "cell_type": "code",
   "execution_count": 20,
   "metadata": {},
   "outputs": [
    {
     "name": "stdout",
     "output_type": "stream",
     "text": [
      "Epoch 1/25\n",
      "1407/1407 [==============================] - 5s 3ms/step - loss: 0.8952 - accuracy: 0.7714 - val_loss: 0.3809 - val_accuracy: 0.8939\n",
      "Epoch 2/25\n",
      "1407/1407 [==============================] - 4s 3ms/step - loss: 0.3221 - accuracy: 0.9088 - val_loss: 0.3074 - val_accuracy: 0.9129\n",
      "Epoch 3/25\n",
      "1407/1407 [==============================] - 4s 3ms/step - loss: 0.2559 - accuracy: 0.9290 - val_loss: 0.2500 - val_accuracy: 0.9329\n",
      "Epoch 4/25\n",
      "1407/1407 [==============================] - 4s 3ms/step - loss: 0.2179 - accuracy: 0.9390 - val_loss: 0.2425 - val_accuracy: 0.9333\n",
      "Epoch 5/25\n",
      "1407/1407 [==============================] - 5s 3ms/step - loss: 0.1930 - accuracy: 0.9456 - val_loss: 0.2296 - val_accuracy: 0.9377\n",
      "Epoch 6/25\n",
      "1407/1407 [==============================] - 5s 3ms/step - loss: 0.1780 - accuracy: 0.9501 - val_loss: 0.2162 - val_accuracy: 0.9427\n",
      "Epoch 7/25\n",
      "1407/1407 [==============================] - 5s 3ms/step - loss: 0.1610 - accuracy: 0.9538 - val_loss: 0.2034 - val_accuracy: 0.9472\n",
      "Epoch 8/25\n",
      "1407/1407 [==============================] - 5s 4ms/step - loss: 0.1470 - accuracy: 0.9580 - val_loss: 0.2048 - val_accuracy: 0.9443\n",
      "Epoch 9/25\n",
      "1407/1407 [==============================] - 5s 3ms/step - loss: 0.1406 - accuracy: 0.9599 - val_loss: 0.1968 - val_accuracy: 0.9458\n",
      "Epoch 10/25\n",
      "1407/1407 [==============================] - 5s 4ms/step - loss: 0.1269 - accuracy: 0.9636 - val_loss: 0.1888 - val_accuracy: 0.9490\n",
      "Epoch 11/25\n",
      "1407/1407 [==============================] - 5s 3ms/step - loss: 0.1222 - accuracy: 0.9647 - val_loss: 0.1801 - val_accuracy: 0.9523\n",
      "Epoch 12/25\n",
      "1407/1407 [==============================] - 5s 3ms/step - loss: 0.1172 - accuracy: 0.9665 - val_loss: 0.1743 - val_accuracy: 0.9528\n",
      "Epoch 13/25\n",
      "1407/1407 [==============================] - 5s 3ms/step - loss: 0.1085 - accuracy: 0.9680 - val_loss: 0.1933 - val_accuracy: 0.9511\n",
      "Epoch 14/25\n",
      "1407/1407 [==============================] - 5s 3ms/step - loss: 0.1063 - accuracy: 0.9690 - val_loss: 0.2165 - val_accuracy: 0.9463\n",
      "Epoch 15/25\n",
      "1407/1407 [==============================] - 5s 3ms/step - loss: 0.1017 - accuracy: 0.9710 - val_loss: 0.2000 - val_accuracy: 0.9523\n",
      "Epoch 16/25\n",
      "1407/1407 [==============================] - 5s 3ms/step - loss: 0.0957 - accuracy: 0.9719 - val_loss: 0.1840 - val_accuracy: 0.9555\n",
      "Epoch 17/25\n",
      "1407/1407 [==============================] - 5s 3ms/step - loss: 0.0947 - accuracy: 0.9735 - val_loss: 0.2102 - val_accuracy: 0.9505\n",
      "Epoch 18/25\n",
      "1407/1407 [==============================] - 4s 3ms/step - loss: 0.0914 - accuracy: 0.9739 - val_loss: 0.1977 - val_accuracy: 0.9543\n",
      "Epoch 19/25\n",
      "1407/1407 [==============================] - 5s 3ms/step - loss: 0.0871 - accuracy: 0.9751 - val_loss: 0.1861 - val_accuracy: 0.9567\n",
      "Epoch 20/25\n",
      "1407/1407 [==============================] - 4s 3ms/step - loss: 0.0836 - accuracy: 0.9760 - val_loss: 0.2004 - val_accuracy: 0.9546\n",
      "Epoch 21/25\n",
      "1407/1407 [==============================] - 4s 3ms/step - loss: 0.0814 - accuracy: 0.9755 - val_loss: 0.1832 - val_accuracy: 0.9595\n",
      "Epoch 22/25\n",
      "1407/1407 [==============================] - 4s 3ms/step - loss: 0.0790 - accuracy: 0.9764 - val_loss: 0.1963 - val_accuracy: 0.9536\n",
      "Epoch 23/25\n",
      "1407/1407 [==============================] - 4s 3ms/step - loss: 0.0774 - accuracy: 0.9780 - val_loss: 0.2223 - val_accuracy: 0.9517\n",
      "Epoch 24/25\n",
      "1407/1407 [==============================] - 4s 3ms/step - loss: 0.0748 - accuracy: 0.9784 - val_loss: 0.1944 - val_accuracy: 0.9561\n",
      "Epoch 25/25\n",
      "1407/1407 [==============================] - 4s 3ms/step - loss: 0.0789 - accuracy: 0.9776 - val_loss: 0.2218 - val_accuracy: 0.9496\n",
      "313/313 [==============================] - 0s 2ms/step - loss: 0.1896 - accuracy: 0.9550\n"
     ]
    },
    {
     "data": {
      "text/plain": [
       "[0.1895788460969925, 0.9549999833106995]"
      ]
     },
     "execution_count": 20,
     "metadata": {},
     "output_type": "execute_result"
    }
   ],
   "source": [
    "model2 = basic_mlp_mnist( n_hidden_layers=5, l_neurons=[30,30,30,30,30])\n",
    "history2 = train_mlp((X_train_bp, y_train_bp), model2, val=(X_valid, y_valid))\n",
    "model2.evaluate(X_test, y_test)"
   ]
  },
  {
   "cell_type": "markdown",
   "metadata": {},
   "source": [
    "There seems to be more information in the tests than we've gotten so far. We'll try using a deeper neural network"
   ]
  },
  {
   "cell_type": "code",
   "execution_count": 21,
   "metadata": {},
   "outputs": [
    {
     "name": "stdout",
     "output_type": "stream",
     "text": [
      "Epoch 1/25\n",
      "1407/1407 [==============================] - 5s 4ms/step - loss: 0.5640 - accuracy: 0.8289 - val_loss: 0.3622 - val_accuracy: 0.8963\n",
      "Epoch 2/25\n",
      "1407/1407 [==============================] - 5s 4ms/step - loss: 0.2635 - accuracy: 0.9268 - val_loss: 0.2870 - val_accuracy: 0.9219\n",
      "Epoch 3/25\n",
      "1407/1407 [==============================] - 5s 4ms/step - loss: 0.2178 - accuracy: 0.9389 - val_loss: 0.2287 - val_accuracy: 0.9381\n",
      "Epoch 4/25\n",
      "1407/1407 [==============================] - 5s 4ms/step - loss: 0.1897 - accuracy: 0.9468 - val_loss: 0.2171 - val_accuracy: 0.9390\n",
      "Epoch 5/25\n",
      "1407/1407 [==============================] - 5s 4ms/step - loss: 0.1711 - accuracy: 0.9522 - val_loss: 0.2331 - val_accuracy: 0.9416\n",
      "Epoch 6/25\n",
      "1407/1407 [==============================] - 5s 4ms/step - loss: 0.1581 - accuracy: 0.9564 - val_loss: 0.1836 - val_accuracy: 0.9493\n",
      "Epoch 7/25\n",
      "1407/1407 [==============================] - 5s 4ms/step - loss: 0.1446 - accuracy: 0.9590 - val_loss: 0.1972 - val_accuracy: 0.9487\n",
      "Epoch 8/25\n",
      "1407/1407 [==============================] - 6s 4ms/step - loss: 0.1351 - accuracy: 0.9630 - val_loss: 0.1876 - val_accuracy: 0.9514\n",
      "Epoch 9/25\n",
      "1407/1407 [==============================] - 5s 4ms/step - loss: 0.1294 - accuracy: 0.9638 - val_loss: 0.1992 - val_accuracy: 0.9453\n",
      "Epoch 10/25\n",
      "1407/1407 [==============================] - 6s 4ms/step - loss: 0.1197 - accuracy: 0.9663 - val_loss: 0.1739 - val_accuracy: 0.9533\n",
      "Epoch 11/25\n",
      "1407/1407 [==============================] - 6s 4ms/step - loss: 0.1103 - accuracy: 0.9683 - val_loss: 0.1781 - val_accuracy: 0.9537\n",
      "Epoch 12/25\n",
      "1407/1407 [==============================] - 6s 4ms/step - loss: 0.1083 - accuracy: 0.9694 - val_loss: 0.1658 - val_accuracy: 0.9571\n",
      "Epoch 13/25\n",
      "1407/1407 [==============================] - 6s 5ms/step - loss: 0.1022 - accuracy: 0.9712 - val_loss: 0.1942 - val_accuracy: 0.9517\n",
      "Epoch 14/25\n",
      "1407/1407 [==============================] - 6s 4ms/step - loss: 0.1001 - accuracy: 0.9716 - val_loss: 0.1883 - val_accuracy: 0.9517\n",
      "Epoch 15/25\n",
      "1407/1407 [==============================] - 6s 4ms/step - loss: 0.0923 - accuracy: 0.9746 - val_loss: 0.2047 - val_accuracy: 0.9507\n",
      "Epoch 16/25\n",
      "1407/1407 [==============================] - 7s 5ms/step - loss: 0.0916 - accuracy: 0.9738 - val_loss: 0.1546 - val_accuracy: 0.9587\n",
      "Epoch 17/25\n",
      "1407/1407 [==============================] - 6s 5ms/step - loss: 0.0859 - accuracy: 0.9748 - val_loss: 0.1715 - val_accuracy: 0.9550\n",
      "Epoch 18/25\n",
      "1407/1407 [==============================] - 6s 4ms/step - loss: 0.0871 - accuracy: 0.9750 - val_loss: 0.1827 - val_accuracy: 0.9559\n",
      "Epoch 19/25\n",
      "1407/1407 [==============================] - 6s 4ms/step - loss: 0.0792 - accuracy: 0.9768 - val_loss: 0.1769 - val_accuracy: 0.9591\n",
      "Epoch 20/25\n",
      "1407/1407 [==============================] - 6s 4ms/step - loss: 0.0804 - accuracy: 0.9774 - val_loss: 0.1674 - val_accuracy: 0.9623\n",
      "Epoch 21/25\n",
      "1407/1407 [==============================] - 7s 5ms/step - loss: 0.0809 - accuracy: 0.9768 - val_loss: 0.1835 - val_accuracy: 0.9548\n",
      "Epoch 22/25\n",
      "1407/1407 [==============================] - 6s 4ms/step - loss: 0.0733 - accuracy: 0.9785 - val_loss: 0.1798 - val_accuracy: 0.9583\n",
      "Epoch 23/25\n",
      "1407/1407 [==============================] - 6s 4ms/step - loss: 0.0713 - accuracy: 0.9795 - val_loss: 0.1886 - val_accuracy: 0.9577\n",
      "Epoch 24/25\n",
      "1407/1407 [==============================] - 6s 4ms/step - loss: 0.0720 - accuracy: 0.9795 - val_loss: 0.2030 - val_accuracy: 0.9572\n",
      "Epoch 25/25\n",
      "1407/1407 [==============================] - 6s 4ms/step - loss: 0.0692 - accuracy: 0.9812 - val_loss: 0.1707 - val_accuracy: 0.9625\n",
      "313/313 [==============================] - 1s 2ms/step - loss: 0.1730 - accuracy: 0.9643\n"
     ]
    },
    {
     "data": {
      "text/plain": [
       "[0.1729763001203537, 0.9642999768257141]"
      ]
     },
     "execution_count": 21,
     "metadata": {},
     "output_type": "execute_result"
    }
   ],
   "source": [
    "model3 = basic_mlp_mnist( n_hidden_layers=9, l_neurons=[30,30,30,30,30,30,30,30,30])\n",
    "history3 = train_mlp((X_train_bp, y_train_bp), model3, val=(X_valid, y_valid))\n",
    "model3.evaluate(X_test, y_test)"
   ]
  },
  {
   "cell_type": "markdown",
   "metadata": {},
   "source": [
    "Both the training and validation errors seem to be decreasing as the number of epochs passed increases. We'll try to improve this model by training the network for more epochs. We'll make sure to use some kind of early stopping to make sure we don't go too far."
   ]
  },
  {
   "cell_type": "code",
   "execution_count": 22,
   "metadata": {},
   "outputs": [],
   "source": [
    "model3.save(\"m3_mnist.h5\")"
   ]
  },
  {
   "cell_type": "code",
   "execution_count": 23,
   "metadata": {},
   "outputs": [
    {
     "name": "stdout",
     "output_type": "stream",
     "text": [
      "Epoch 1/25\n",
      "1407/1407 [==============================] - 6s 4ms/step - loss: 0.0681 - accuracy: 0.9812 - val_loss: 0.2146 - val_accuracy: 0.9565\n",
      "Epoch 2/25\n",
      "1407/1407 [==============================] - 6s 4ms/step - loss: 0.0637 - accuracy: 0.9814 - val_loss: 0.1831 - val_accuracy: 0.9603\n",
      "Epoch 3/25\n",
      "1407/1407 [==============================] - 6s 4ms/step - loss: 0.0651 - accuracy: 0.9817 - val_loss: 0.1890 - val_accuracy: 0.9612\n",
      "Epoch 4/25\n",
      "1407/1407 [==============================] - 6s 4ms/step - loss: 0.0619 - accuracy: 0.9825 - val_loss: 0.1776 - val_accuracy: 0.9589\n",
      "Epoch 5/25\n",
      "1407/1407 [==============================] - 5s 4ms/step - loss: 0.0637 - accuracy: 0.9827 - val_loss: 0.1790 - val_accuracy: 0.9593\n",
      "Epoch 6/25\n",
      "1407/1407 [==============================] - 6s 4ms/step - loss: 0.0603 - accuracy: 0.9830 - val_loss: 0.1720 - val_accuracy: 0.9627\n",
      "Epoch 7/25\n",
      "1407/1407 [==============================] - 6s 4ms/step - loss: 0.0551 - accuracy: 0.9841 - val_loss: 0.2141 - val_accuracy: 0.9612\n",
      "Epoch 8/25\n",
      "1407/1407 [==============================] - 6s 4ms/step - loss: 0.0626 - accuracy: 0.9828 - val_loss: 0.1945 - val_accuracy: 0.9603\n",
      "Epoch 9/25\n",
      "1407/1407 [==============================] - 6s 4ms/step - loss: 0.0598 - accuracy: 0.9839 - val_loss: 0.1968 - val_accuracy: 0.9621\n",
      "Epoch 10/25\n",
      "1407/1407 [==============================] - 6s 4ms/step - loss: 0.0582 - accuracy: 0.9844 - val_loss: 0.1931 - val_accuracy: 0.9614\n",
      "Epoch 11/25\n",
      "1407/1407 [==============================] - 6s 4ms/step - loss: 0.0544 - accuracy: 0.9852 - val_loss: 0.3282 - val_accuracy: 0.9467\n",
      "Epoch 12/25\n",
      "1407/1407 [==============================] - 5s 4ms/step - loss: 0.0580 - accuracy: 0.9837 - val_loss: 0.2125 - val_accuracy: 0.9571\n",
      "Epoch 13/25\n",
      "1407/1407 [==============================] - 6s 4ms/step - loss: 0.0567 - accuracy: 0.9847 - val_loss: 0.1919 - val_accuracy: 0.9612\n",
      "Epoch 14/25\n",
      "1407/1407 [==============================] - 6s 4ms/step - loss: 0.0519 - accuracy: 0.9857 - val_loss: 0.1838 - val_accuracy: 0.9621\n",
      "Epoch 15/25\n",
      "1407/1407 [==============================] - 6s 4ms/step - loss: 0.0558 - accuracy: 0.9854 - val_loss: 0.1826 - val_accuracy: 0.9601\n",
      "Epoch 16/25\n",
      "1407/1407 [==============================] - 5s 4ms/step - loss: 0.0501 - accuracy: 0.9861 - val_loss: 0.1793 - val_accuracy: 0.9616\n",
      "Epoch 17/25\n",
      "1407/1407 [==============================] - 5s 4ms/step - loss: 0.0502 - accuracy: 0.9865 - val_loss: 0.1982 - val_accuracy: 0.9608\n",
      "Epoch 18/25\n",
      "1407/1407 [==============================] - 6s 4ms/step - loss: 0.0461 - accuracy: 0.9868 - val_loss: 0.2086 - val_accuracy: 0.9581\n",
      "Epoch 19/25\n",
      "1407/1407 [==============================] - 6s 4ms/step - loss: 0.0486 - accuracy: 0.9857 - val_loss: 0.2186 - val_accuracy: 0.9585\n",
      "Epoch 20/25\n",
      "1407/1407 [==============================] - 5s 4ms/step - loss: 0.0522 - accuracy: 0.9856 - val_loss: 0.2258 - val_accuracy: 0.9606\n",
      "Epoch 21/25\n",
      "1407/1407 [==============================] - 5s 4ms/step - loss: 0.0528 - accuracy: 0.9857 - val_loss: 0.2015 - val_accuracy: 0.9602\n",
      "Epoch 22/25\n",
      "1407/1407 [==============================] - 5s 4ms/step - loss: 0.0411 - accuracy: 0.9885 - val_loss: 0.1895 - val_accuracy: 0.9633\n",
      "Epoch 23/25\n",
      "1407/1407 [==============================] - 5s 4ms/step - loss: 0.0539 - accuracy: 0.9857 - val_loss: 0.2017 - val_accuracy: 0.9557\n",
      "Epoch 24/25\n",
      "1407/1407 [==============================] - 6s 4ms/step - loss: 0.0454 - accuracy: 0.9879 - val_loss: 0.2167 - val_accuracy: 0.9641\n",
      "Epoch 25/25\n",
      "1407/1407 [==============================] - 6s 4ms/step - loss: 0.0462 - accuracy: 0.9878 - val_loss: 0.1978 - val_accuracy: 0.9623\n"
     ]
    }
   ],
   "source": [
    "model_3_cb = keras.callbacks.ModelCheckpoint(\"m3_mnist.h5\", save_best_only=True)\n",
    "m3_hist = train_mlp((X_train_bp, y_train_bp), model3, val=(X_valid, y_valid), cbs = [model_3_cb] )"
   ]
  },
  {
   "cell_type": "markdown",
   "metadata": {},
   "source": [
    "We might not see any improvement just from the initial epochs or from the inclusion of the validation set, so we'll try to use wider layers. This increases the danger of overfitting, but it's worth a shot anyways."
   ]
  },
  {
   "cell_type": "code",
   "execution_count": 24,
   "metadata": {},
   "outputs": [
    {
     "name": "stdout",
     "output_type": "stream",
     "text": [
      "Epoch 1/25\n",
      "1875/1875 [==============================] - 6s 3ms/step - loss: 0.4935 - accuracy: 0.8782\n",
      "Epoch 2/25\n",
      "1875/1875 [==============================] - 6s 3ms/step - loss: 0.1940 - accuracy: 0.9435\n",
      "Epoch 3/25\n",
      "1875/1875 [==============================] - 6s 3ms/step - loss: 0.1503 - accuracy: 0.9573\n",
      "Epoch 4/25\n",
      "1875/1875 [==============================] - 5s 3ms/step - loss: 0.1301 - accuracy: 0.9634\n",
      "Epoch 5/25\n",
      "1875/1875 [==============================] - 6s 3ms/step - loss: 0.1120 - accuracy: 0.9679\n",
      "Epoch 6/25\n",
      "1875/1875 [==============================] - 5s 3ms/step - loss: 0.0935 - accuracy: 0.9740\n",
      "Epoch 7/25\n",
      "1875/1875 [==============================] - 6s 3ms/step - loss: 0.0925 - accuracy: 0.9747\n",
      "Epoch 8/25\n",
      "1875/1875 [==============================] - 6s 3ms/step - loss: 0.0828 - accuracy: 0.9776\n",
      "Epoch 9/25\n",
      "1875/1875 [==============================] - 5s 3ms/step - loss: 0.0733 - accuracy: 0.9797\n",
      "Epoch 10/25\n",
      "1875/1875 [==============================] - 5s 3ms/step - loss: 0.0678 - accuracy: 0.9819\n",
      "Epoch 11/25\n",
      "1875/1875 [==============================] - 6s 3ms/step - loss: 0.0667 - accuracy: 0.9823\n",
      "Epoch 12/25\n",
      "1875/1875 [==============================] - 5s 3ms/step - loss: 0.0611 - accuracy: 0.9839\n",
      "Epoch 13/25\n",
      "1875/1875 [==============================] - 5s 3ms/step - loss: 0.0627 - accuracy: 0.9838\n",
      "Epoch 14/25\n",
      "1875/1875 [==============================] - 5s 3ms/step - loss: 0.0500 - accuracy: 0.9865\n",
      "Epoch 15/25\n",
      "1875/1875 [==============================] - 5s 3ms/step - loss: 0.0534 - accuracy: 0.9855\n",
      "Epoch 16/25\n",
      "1875/1875 [==============================] - 5s 3ms/step - loss: 0.0502 - accuracy: 0.9873\n",
      "Epoch 17/25\n",
      "1875/1875 [==============================] - 5s 3ms/step - loss: 0.0426 - accuracy: 0.9885\n",
      "Epoch 18/25\n",
      "1875/1875 [==============================] - 6s 3ms/step - loss: 0.0572 - accuracy: 0.9870\n",
      "Epoch 19/25\n",
      "1875/1875 [==============================] - 5s 3ms/step - loss: 0.0440 - accuracy: 0.9888\n",
      "Epoch 20/25\n",
      "1875/1875 [==============================] - 6s 3ms/step - loss: 0.0387 - accuracy: 0.9903\n",
      "Epoch 21/25\n",
      "1875/1875 [==============================] - 5s 3ms/step - loss: 0.0432 - accuracy: 0.9896\n",
      "Epoch 22/25\n",
      "1875/1875 [==============================] - 5s 3ms/step - loss: 0.0358 - accuracy: 0.9907\n",
      "Epoch 23/25\n",
      "1875/1875 [==============================] - 6s 3ms/step - loss: 0.0381 - accuracy: 0.9904\n",
      "Epoch 24/25\n",
      "1875/1875 [==============================] - 5s 3ms/step - loss: 0.0488 - accuracy: 0.9893\n",
      "Epoch 25/25\n",
      "1875/1875 [==============================] - 5s 3ms/step - loss: 0.0345 - accuracy: 0.9914\n",
      "313/313 [==============================] - 0s 2ms/step - loss: 0.2017 - accuracy: 0.9720\n"
     ]
    },
    {
     "data": {
      "text/plain": [
       "[0.20166289806365967, 0.972000002861023]"
      ]
     },
     "execution_count": 24,
     "metadata": {},
     "output_type": "execute_result"
    }
   ],
   "source": [
    "model4 = basic_mlp_mnist( n_hidden_layers=5, l_neurons=[100,100,100,100,100])\n",
    "history1 = train_mlp((X_train, y_train), model4)\n",
    "model4.evaluate(X_test, y_test)"
   ]
  },
  {
   "cell_type": "code",
   "execution_count": 25,
   "metadata": {},
   "outputs": [
    {
     "name": "stdout",
     "output_type": "stream",
     "text": [
      "313/313 [==============================] - 0s 2ms/step - loss: 0.2017 - accuracy: 0.9720\n"
     ]
    },
    {
     "data": {
      "text/plain": [
       "[0.20166289806365967, 0.972000002861023]"
      ]
     },
     "execution_count": 25,
     "metadata": {},
     "output_type": "execute_result"
    }
   ],
   "source": [
    "model4.evaluate(X_test, y_test)"
   ]
  },
  {
   "cell_type": "markdown",
   "metadata": {},
   "source": [
    "This model looks promising. We can use a validation set to try to better train a model with this architecture."
   ]
  },
  {
   "cell_type": "code",
   "execution_count": 32,
   "metadata": {},
   "outputs": [
    {
     "name": "stdout",
     "output_type": "stream",
     "text": [
      "Epoch 1/25\n",
      "1407/1407 [==============================] - 4s 3ms/step - loss: 0.5681 - accuracy: 0.8773 - val_loss: 0.2146 - val_accuracy: 0.9371\n",
      "Epoch 2/25\n",
      "1407/1407 [==============================] - 4s 3ms/step - loss: 0.2004 - accuracy: 0.9421 - val_loss: 0.1971 - val_accuracy: 0.9463\n",
      "Epoch 3/25\n",
      "1407/1407 [==============================] - 4s 3ms/step - loss: 0.1557 - accuracy: 0.9555 - val_loss: 0.1569 - val_accuracy: 0.9573\n",
      "Epoch 4/25\n",
      "1407/1407 [==============================] - 4s 3ms/step - loss: 0.1364 - accuracy: 0.9610 - val_loss: 0.1482 - val_accuracy: 0.9602\n",
      "Epoch 5/25\n",
      "1407/1407 [==============================] - 3s 2ms/step - loss: 0.1091 - accuracy: 0.9696 - val_loss: 0.1442 - val_accuracy: 0.9613\n",
      "Epoch 6/25\n",
      "1407/1407 [==============================] - 4s 3ms/step - loss: 0.1004 - accuracy: 0.9723 - val_loss: 0.1418 - val_accuracy: 0.9636\n",
      "Epoch 7/25\n",
      "1407/1407 [==============================] - 5s 3ms/step - loss: 0.0868 - accuracy: 0.9761 - val_loss: 0.1721 - val_accuracy: 0.9573\n",
      "Epoch 8/25\n",
      "1407/1407 [==============================] - 4s 3ms/step - loss: 0.0762 - accuracy: 0.9785 - val_loss: 0.1252 - val_accuracy: 0.9689\n",
      "Epoch 9/25\n",
      "1407/1407 [==============================] - 5s 3ms/step - loss: 0.0730 - accuracy: 0.9804 - val_loss: 0.1219 - val_accuracy: 0.9720\n",
      "Epoch 10/25\n",
      "1407/1407 [==============================] - 5s 3ms/step - loss: 0.0706 - accuracy: 0.9812 - val_loss: 0.1503 - val_accuracy: 0.9671\n",
      "Epoch 11/25\n",
      "1407/1407 [==============================] - 5s 3ms/step - loss: 0.0584 - accuracy: 0.9847 - val_loss: 0.1535 - val_accuracy: 0.9701\n",
      "Epoch 12/25\n",
      "1407/1407 [==============================] - 5s 3ms/step - loss: 0.0643 - accuracy: 0.9836 - val_loss: 0.1330 - val_accuracy: 0.9715\n",
      "Epoch 13/25\n",
      "1407/1407 [==============================] - 5s 3ms/step - loss: 0.0518 - accuracy: 0.9862 - val_loss: 0.1265 - val_accuracy: 0.9757\n",
      "Epoch 14/25\n",
      "1407/1407 [==============================] - 5s 3ms/step - loss: 0.0465 - accuracy: 0.9875 - val_loss: 0.1635 - val_accuracy: 0.9679\n",
      "Epoch 15/25\n",
      "1407/1407 [==============================] - 5s 4ms/step - loss: 0.0500 - accuracy: 0.9881 - val_loss: 0.1332 - val_accuracy: 0.9782\n",
      "Epoch 16/25\n",
      "1407/1407 [==============================] - 5s 4ms/step - loss: 0.0460 - accuracy: 0.9881 - val_loss: 0.1324 - val_accuracy: 0.9751\n",
      "Epoch 17/25\n",
      "1407/1407 [==============================] - 5s 4ms/step - loss: 0.0453 - accuracy: 0.9886 - val_loss: 0.1516 - val_accuracy: 0.9717\n",
      "Epoch 18/25\n",
      "1407/1407 [==============================] - 5s 4ms/step - loss: 0.0346 - accuracy: 0.9914 - val_loss: 0.1544 - val_accuracy: 0.9756\n",
      "Epoch 19/25\n",
      "1407/1407 [==============================] - 5s 4ms/step - loss: 0.0496 - accuracy: 0.9886 - val_loss: 0.1700 - val_accuracy: 0.9715\n",
      "Epoch 20/25\n",
      "1407/1407 [==============================] - 5s 4ms/step - loss: 0.0382 - accuracy: 0.9911 - val_loss: 0.1891 - val_accuracy: 0.9760\n",
      "Epoch 21/25\n",
      "1407/1407 [==============================] - 5s 4ms/step - loss: 0.0398 - accuracy: 0.9908 - val_loss: 0.1410 - val_accuracy: 0.9781\n",
      "Epoch 22/25\n",
      "1407/1407 [==============================] - 6s 4ms/step - loss: 0.0351 - accuracy: 0.9923 - val_loss: 0.2100 - val_accuracy: 0.9760\n",
      "Epoch 23/25\n",
      "1407/1407 [==============================] - 6s 4ms/step - loss: 0.0519 - accuracy: 0.9903 - val_loss: 0.1679 - val_accuracy: 0.9789\n",
      "Epoch 24/25\n",
      "1407/1407 [==============================] - 6s 4ms/step - loss: 0.0279 - accuracy: 0.9937 - val_loss: 0.1611 - val_accuracy: 0.9753\n",
      "Epoch 25/25\n",
      "1407/1407 [==============================] - 6s 4ms/step - loss: 0.0308 - accuracy: 0.9924 - val_loss: 0.1970 - val_accuracy: 0.9763\n",
      "313/313 [==============================] - 1s 2ms/step - loss: 0.1750 - accuracy: 0.9764\n"
     ]
    },
    {
     "data": {
      "text/plain": [
       "[0.17501336336135864, 0.9764000177383423]"
      ]
     },
     "execution_count": 32,
     "metadata": {},
     "output_type": "execute_result"
    }
   ],
   "source": [
    "model4_bp = basic_mlp_mnist( n_hidden_layers=5, l_neurons=[300,100,100,100,100])\n",
    "history1 = train_mlp((X_train_bp, y_train_bp), model4_bp,  val=(X_valid, y_valid))\n",
    "model4_bp.evaluate(X_test, y_test)"
   ]
  },
  {
   "cell_type": "code",
   "execution_count": 31,
   "metadata": {},
   "outputs": [
    {
     "name": "stdout",
     "output_type": "stream",
     "text": [
      "313/313 [==============================] - 0s 1ms/step - loss: 0.2198 - accuracy: 0.9708\n"
     ]
    },
    {
     "data": {
      "text/plain": [
       "[0.21979230642318726, 0.97079998254776]"
      ]
     },
     "execution_count": 31,
     "metadata": {},
     "output_type": "execute_result"
    }
   ],
   "source": [
    "model4_bp.evaluate(X_test, y_test)"
   ]
  },
  {
   "cell_type": "markdown",
   "metadata": {},
   "source": [
    "We seem close. We're going to try to use a smaller learning rate to finish up the neural net."
   ]
  },
  {
   "cell_type": "code",
   "execution_count": 36,
   "metadata": {},
   "outputs": [
    {
     "name": "stdout",
     "output_type": "stream",
     "text": [
      "Epoch 1/25\n",
      "1407/1407 [==============================] - 4s 3ms/step - loss: 0.6850 - accuracy: 0.8756 - val_loss: 0.2670 - val_accuracy: 0.9265\n",
      "Epoch 2/25\n",
      "1407/1407 [==============================] - 6s 5ms/step - loss: 0.1897 - accuracy: 0.9447 - val_loss: 0.1647 - val_accuracy: 0.9521\n",
      "Epoch 3/25\n",
      "1407/1407 [==============================] - 6s 4ms/step - loss: 0.1442 - accuracy: 0.9586 - val_loss: 0.1851 - val_accuracy: 0.9504\n",
      "Epoch 4/25\n",
      "1407/1407 [==============================] - 6s 4ms/step - loss: 0.1269 - accuracy: 0.9631 - val_loss: 0.1540 - val_accuracy: 0.9584\n",
      "Epoch 5/25\n",
      "1407/1407 [==============================] - 6s 4ms/step - loss: 0.0994 - accuracy: 0.9708 - val_loss: 0.1405 - val_accuracy: 0.9618\n",
      "Epoch 6/25\n",
      "1407/1407 [==============================] - 6s 4ms/step - loss: 0.0900 - accuracy: 0.9739 - val_loss: 0.1409 - val_accuracy: 0.9646\n",
      "Epoch 7/25\n",
      "1407/1407 [==============================] - 6s 4ms/step - loss: 0.0780 - accuracy: 0.9775 - val_loss: 0.1397 - val_accuracy: 0.9629\n",
      "Epoch 8/25\n",
      "1407/1407 [==============================] - 6s 5ms/step - loss: 0.0715 - accuracy: 0.9788 - val_loss: 0.1211 - val_accuracy: 0.9699\n",
      "Epoch 9/25\n",
      "1407/1407 [==============================] - 6s 4ms/step - loss: 0.0599 - accuracy: 0.9830 - val_loss: 0.1501 - val_accuracy: 0.9648\n",
      "Epoch 10/25\n",
      "1407/1407 [==============================] - 6s 4ms/step - loss: 0.0516 - accuracy: 0.9853 - val_loss: 0.1244 - val_accuracy: 0.9694\n",
      "Epoch 11/25\n",
      "1407/1407 [==============================] - 6s 4ms/step - loss: 0.0484 - accuracy: 0.9861 - val_loss: 0.1239 - val_accuracy: 0.9715\n",
      "Epoch 12/25\n",
      "1407/1407 [==============================] - 6s 4ms/step - loss: 0.0433 - accuracy: 0.9881 - val_loss: 0.1338 - val_accuracy: 0.9706\n",
      "Epoch 13/25\n",
      "1407/1407 [==============================] - 7s 5ms/step - loss: 0.0394 - accuracy: 0.9890 - val_loss: 0.1258 - val_accuracy: 0.9739\n",
      "Epoch 14/25\n",
      "1407/1407 [==============================] - 7s 5ms/step - loss: 0.0320 - accuracy: 0.9911 - val_loss: 0.1283 - val_accuracy: 0.9751\n",
      "Epoch 15/25\n",
      "1407/1407 [==============================] - 7s 5ms/step - loss: 0.0355 - accuracy: 0.9904 - val_loss: 0.1332 - val_accuracy: 0.9737\n",
      "Epoch 16/25\n",
      "1407/1407 [==============================] - 6s 5ms/step - loss: 0.0279 - accuracy: 0.9918 - val_loss: 0.1470 - val_accuracy: 0.9709\n",
      "Epoch 17/25\n",
      "1407/1407 [==============================] - 7s 5ms/step - loss: 0.0326 - accuracy: 0.9912 - val_loss: 0.1247 - val_accuracy: 0.9765\n",
      "Epoch 18/25\n",
      "1407/1407 [==============================] - 7s 5ms/step - loss: 0.0257 - accuracy: 0.9931 - val_loss: 0.1659 - val_accuracy: 0.9693\n",
      "Epoch 19/25\n",
      "1407/1407 [==============================] - 7s 5ms/step - loss: 0.0261 - accuracy: 0.9930 - val_loss: 0.1642 - val_accuracy: 0.9719\n",
      "Epoch 20/25\n",
      "1407/1407 [==============================] - 7s 5ms/step - loss: 0.0211 - accuracy: 0.9944 - val_loss: 0.1803 - val_accuracy: 0.9689\n",
      "Epoch 21/25\n",
      "1407/1407 [==============================] - 7s 5ms/step - loss: 0.0215 - accuracy: 0.9945 - val_loss: 0.1370 - val_accuracy: 0.9782\n",
      "Epoch 22/25\n",
      "1407/1407 [==============================] - 7s 5ms/step - loss: 0.0259 - accuracy: 0.9939 - val_loss: 0.1315 - val_accuracy: 0.9798\n",
      "Epoch 23/25\n",
      "1407/1407 [==============================] - 7s 5ms/step - loss: 0.0202 - accuracy: 0.9941 - val_loss: 0.1768 - val_accuracy: 0.9722\n",
      "Epoch 24/25\n",
      "1407/1407 [==============================] - 7s 5ms/step - loss: 0.0255 - accuracy: 0.9938 - val_loss: 0.1397 - val_accuracy: 0.9782\n",
      "Epoch 25/25\n",
      "1407/1407 [==============================] - 7s 5ms/step - loss: 0.0148 - accuracy: 0.9961 - val_loss: 0.1839 - val_accuracy: 0.9784\n",
      "313/313 [==============================] - 1s 2ms/step - loss: 0.1926 - accuracy: 0.9758\n"
     ]
    },
    {
     "data": {
      "text/plain": [
       "[0.19260898232460022, 0.9757999777793884]"
      ]
     },
     "execution_count": 36,
     "metadata": {},
     "output_type": "execute_result"
    }
   ],
   "source": [
    "q_opt = keras.optimizers.Adam(learning_rate = 0.0005)\n",
    "model4_bp = basic_mlp_mnist( n_hidden_layers=5, l_neurons=[300,300,100,100,100], opt=q_opt)\n",
    "history1 = train_mlp((X_train_bp, y_train_bp), model4_bp,  val=(X_valid, y_valid))\n",
    "model4_bp.evaluate(X_test, y_test)\n"
   ]
  },
  {
   "cell_type": "code",
   "execution_count": 37,
   "metadata": {},
   "outputs": [
    {
     "name": "stdout",
     "output_type": "stream",
     "text": [
      "Epoch 1/25\n",
      "1407/1407 [==============================] - 4s 3ms/step - loss: 0.0143 - accuracy: 0.9958 - val_loss: 0.1656 - val_accuracy: 0.9787\n",
      "Epoch 2/25\n",
      "1407/1407 [==============================] - 4s 3ms/step - loss: 0.0214 - accuracy: 0.9950 - val_loss: 0.1364 - val_accuracy: 0.9789\n",
      "Epoch 3/25\n",
      "1407/1407 [==============================] - 4s 3ms/step - loss: 0.0259 - accuracy: 0.9941 - val_loss: 0.1620 - val_accuracy: 0.9795\n",
      "Epoch 4/25\n",
      "1407/1407 [==============================] - 4s 3ms/step - loss: 0.0139 - accuracy: 0.9969 - val_loss: 0.1769 - val_accuracy: 0.9753\n",
      "Epoch 5/25\n",
      "1407/1407 [==============================] - 4s 3ms/step - loss: 0.0188 - accuracy: 0.9958 - val_loss: 0.1776 - val_accuracy: 0.9761\n",
      "Epoch 6/25\n",
      "1407/1407 [==============================] - 4s 3ms/step - loss: 0.0175 - accuracy: 0.9959 - val_loss: 0.1782 - val_accuracy: 0.9765\n",
      "Epoch 7/25\n",
      "1407/1407 [==============================] - 5s 3ms/step - loss: 0.0194 - accuracy: 0.9954 - val_loss: 0.1701 - val_accuracy: 0.9757\n",
      "Epoch 8/25\n",
      "1407/1407 [==============================] - 4s 3ms/step - loss: 0.0144 - accuracy: 0.9965 - val_loss: 0.1816 - val_accuracy: 0.9795\n",
      "Epoch 9/25\n",
      "1407/1407 [==============================] - 4s 3ms/step - loss: 0.0177 - accuracy: 0.9961 - val_loss: 0.1692 - val_accuracy: 0.9781\n",
      "Epoch 10/25\n",
      "1407/1407 [==============================] - 4s 3ms/step - loss: 0.0152 - accuracy: 0.9967 - val_loss: 0.2285 - val_accuracy: 0.9748\n",
      "Epoch 11/25\n",
      "1407/1407 [==============================] - 4s 3ms/step - loss: 0.0172 - accuracy: 0.9967 - val_loss: 0.2165 - val_accuracy: 0.9731\n",
      "Epoch 12/25\n",
      "1407/1407 [==============================] - 4s 3ms/step - loss: 0.0102 - accuracy: 0.9976 - val_loss: 0.2190 - val_accuracy: 0.9776\n",
      "Epoch 13/25\n",
      "1407/1407 [==============================] - 4s 3ms/step - loss: 0.0193 - accuracy: 0.9959 - val_loss: 0.1781 - val_accuracy: 0.9798\n",
      "Epoch 14/25\n",
      "1407/1407 [==============================] - 4s 3ms/step - loss: 0.0109 - accuracy: 0.9977 - val_loss: 0.2176 - val_accuracy: 0.9764\n",
      "Epoch 15/25\n",
      "1407/1407 [==============================] - 4s 3ms/step - loss: 0.0169 - accuracy: 0.9963 - val_loss: 0.2410 - val_accuracy: 0.9745\n",
      "Epoch 16/25\n",
      "1407/1407 [==============================] - 4s 3ms/step - loss: 0.0144 - accuracy: 0.9970 - val_loss: 0.2838 - val_accuracy: 0.9745\n",
      "Epoch 17/25\n",
      "1407/1407 [==============================] - 4s 3ms/step - loss: 0.0168 - accuracy: 0.9966 - val_loss: 0.2305 - val_accuracy: 0.9765\n",
      "Epoch 18/25\n",
      "1407/1407 [==============================] - 4s 3ms/step - loss: 0.0127 - accuracy: 0.9971 - val_loss: 0.1775 - val_accuracy: 0.9791\n",
      "Epoch 19/25\n",
      "1407/1407 [==============================] - 4s 3ms/step - loss: 0.0083 - accuracy: 0.9976 - val_loss: 0.2124 - val_accuracy: 0.9775\n",
      "Epoch 20/25\n",
      "1407/1407 [==============================] - 4s 3ms/step - loss: 0.0092 - accuracy: 0.9975 - val_loss: 0.2606 - val_accuracy: 0.9753\n",
      "Epoch 21/25\n",
      "1407/1407 [==============================] - 4s 3ms/step - loss: 0.0202 - accuracy: 0.9966 - val_loss: 0.3035 - val_accuracy: 0.9760\n",
      "Epoch 22/25\n",
      "1407/1407 [==============================] - 4s 3ms/step - loss: 0.0164 - accuracy: 0.9967 - val_loss: 0.2171 - val_accuracy: 0.9799\n",
      "Epoch 23/25\n",
      "1407/1407 [==============================] - 4s 3ms/step - loss: 0.0100 - accuracy: 0.9980 - val_loss: 0.2756 - val_accuracy: 0.9760\n",
      "Epoch 24/25\n",
      "1407/1407 [==============================] - 4s 3ms/step - loss: 0.0167 - accuracy: 0.9967 - val_loss: 0.2562 - val_accuracy: 0.9795\n",
      "Epoch 25/25\n",
      "1407/1407 [==============================] - 4s 3ms/step - loss: 0.0127 - accuracy: 0.9980 - val_loss: 0.2028 - val_accuracy: 0.9773\n",
      "313/313 [==============================] - 0s 1ms/step - loss: 0.1346 - accuracy: 0.9786\n"
     ]
    },
    {
     "data": {
      "text/plain": [
       "[0.13464485108852386, 0.978600025177002]"
      ]
     },
     "execution_count": 37,
     "metadata": {},
     "output_type": "execute_result"
    }
   ],
   "source": [
    "model4_bp_cb = keras.callbacks.ModelCheckpoint(\"model4_bp.h5\", save_best_only=True)\n",
    "history4_mp = train_mlp((X_train_bp, y_train_bp), model4_bp,  val=(X_valid, y_valid), cbs=model4_bp_cb )\n",
    "model4_bp = keras.models.load_model(\"model4_bp.h5\")\n",
    "model4_bp.evaluate(X_test, y_test)"
   ]
  },
  {
   "cell_type": "code",
   "execution_count": 38,
   "metadata": {},
   "outputs": [
    {
     "name": "stdout",
     "output_type": "stream",
     "text": [
      "Epoch 1/50\n",
      "1407/1407 [==============================] - 4s 3ms/step - loss: 0.0185 - accuracy: 0.9956 - val_loss: 0.1523 - val_accuracy: 0.9779\n",
      "Epoch 2/50\n",
      "1407/1407 [==============================] - 4s 3ms/step - loss: 0.0142 - accuracy: 0.9962 - val_loss: 0.1674 - val_accuracy: 0.9768\n",
      "Epoch 3/50\n",
      "1407/1407 [==============================] - 4s 3ms/step - loss: 0.0156 - accuracy: 0.9962 - val_loss: 0.1748 - val_accuracy: 0.9759\n",
      "Epoch 4/50\n",
      "1407/1407 [==============================] - 4s 3ms/step - loss: 0.0175 - accuracy: 0.9959 - val_loss: 0.1591 - val_accuracy: 0.9762\n",
      "Epoch 5/50\n",
      "1407/1407 [==============================] - 4s 3ms/step - loss: 0.0163 - accuracy: 0.9963 - val_loss: 0.1836 - val_accuracy: 0.9749\n",
      "Epoch 6/50\n",
      "1407/1407 [==============================] - 4s 3ms/step - loss: 0.0204 - accuracy: 0.9958 - val_loss: 0.1940 - val_accuracy: 0.9770\n",
      "Epoch 7/50\n",
      "1407/1407 [==============================] - 4s 3ms/step - loss: 0.0164 - accuracy: 0.9961 - val_loss: 0.1695 - val_accuracy: 0.9792\n",
      "Epoch 8/50\n",
      "1407/1407 [==============================] - 4s 3ms/step - loss: 0.0185 - accuracy: 0.9963 - val_loss: 0.1971 - val_accuracy: 0.9739\n",
      "Epoch 9/50\n",
      "1407/1407 [==============================] - 4s 3ms/step - loss: 0.0170 - accuracy: 0.9962 - val_loss: 0.1740 - val_accuracy: 0.9795\n",
      "Epoch 10/50\n",
      "1407/1407 [==============================] - 5s 3ms/step - loss: 0.0175 - accuracy: 0.9964 - val_loss: 0.2138 - val_accuracy: 0.9778\n",
      "Epoch 11/50\n",
      "1407/1407 [==============================] - 5s 3ms/step - loss: 0.0138 - accuracy: 0.9969 - val_loss: 0.2422 - val_accuracy: 0.9784\n",
      "Epoch 12/50\n",
      "1407/1407 [==============================] - 5s 3ms/step - loss: 0.0150 - accuracy: 0.9967 - val_loss: 0.2134 - val_accuracy: 0.9788\n",
      "Epoch 13/50\n",
      "1407/1407 [==============================] - 5s 3ms/step - loss: 0.0171 - accuracy: 0.9964 - val_loss: 0.1808 - val_accuracy: 0.9768\n",
      "Epoch 14/50\n",
      "1407/1407 [==============================] - 4s 3ms/step - loss: 0.0131 - accuracy: 0.9974 - val_loss: 0.1920 - val_accuracy: 0.9763\n",
      "Epoch 15/50\n",
      "1407/1407 [==============================] - 5s 3ms/step - loss: 0.0164 - accuracy: 0.9967 - val_loss: 0.1903 - val_accuracy: 0.9775\n",
      "Epoch 16/50\n",
      "1407/1407 [==============================] - 5s 3ms/step - loss: 0.0102 - accuracy: 0.9978 - val_loss: 0.2451 - val_accuracy: 0.9767\n",
      "Epoch 17/50\n",
      "1407/1407 [==============================] - 5s 3ms/step - loss: 0.0169 - accuracy: 0.9965 - val_loss: 0.2182 - val_accuracy: 0.9764\n",
      "Epoch 18/50\n",
      "1407/1407 [==============================] - 4s 3ms/step - loss: 0.0149 - accuracy: 0.9973 - val_loss: 0.3912 - val_accuracy: 0.9750\n",
      "Epoch 19/50\n",
      "1407/1407 [==============================] - 4s 3ms/step - loss: 0.0167 - accuracy: 0.9973 - val_loss: 0.2259 - val_accuracy: 0.9767\n",
      "Epoch 20/50\n",
      "1407/1407 [==============================] - 4s 3ms/step - loss: 0.0209 - accuracy: 0.9972 - val_loss: 0.2896 - val_accuracy: 0.9803\n",
      "Epoch 21/50\n",
      "1407/1407 [==============================] - 4s 3ms/step - loss: 0.0210 - accuracy: 0.9976 - val_loss: 0.2026 - val_accuracy: 0.9756\n",
      "Epoch 22/50\n",
      "1407/1407 [==============================] - 4s 3ms/step - loss: 0.0077 - accuracy: 0.9983 - val_loss: 0.2452 - val_accuracy: 0.9799\n",
      "Epoch 23/50\n",
      "1407/1407 [==============================] - 5s 4ms/step - loss: 0.0094 - accuracy: 0.9978 - val_loss: 0.2756 - val_accuracy: 0.9775\n",
      "Epoch 24/50\n",
      "1407/1407 [==============================] - 7s 5ms/step - loss: 0.0244 - accuracy: 0.9968 - val_loss: 0.1990 - val_accuracy: 0.9781\n",
      "Epoch 25/50\n",
      "1407/1407 [==============================] - 9s 6ms/step - loss: 0.0070 - accuracy: 0.9984 - val_loss: 0.2788 - val_accuracy: 0.9745\n",
      "Epoch 26/50\n",
      "1407/1407 [==============================] - 6s 4ms/step - loss: 0.0157 - accuracy: 0.9970 - val_loss: 0.2495 - val_accuracy: 0.9815\n",
      "Epoch 27/50\n",
      "1407/1407 [==============================] - 4s 3ms/step - loss: 0.0157 - accuracy: 0.9977 - val_loss: 0.2876 - val_accuracy: 0.9794\n",
      "Epoch 28/50\n",
      "1407/1407 [==============================] - 4s 3ms/step - loss: 0.0133 - accuracy: 0.9973 - val_loss: 0.3027 - val_accuracy: 0.9787\n",
      "Epoch 29/50\n",
      "1407/1407 [==============================] - 4s 3ms/step - loss: 0.0091 - accuracy: 0.9982 - val_loss: 0.2283 - val_accuracy: 0.9791\n",
      "Epoch 30/50\n",
      "1407/1407 [==============================] - 4s 3ms/step - loss: 0.0171 - accuracy: 0.9971 - val_loss: 0.2524 - val_accuracy: 0.9773\n",
      "Epoch 31/50\n",
      "1407/1407 [==============================] - 4s 3ms/step - loss: 0.0117 - accuracy: 0.9977 - val_loss: 0.2414 - val_accuracy: 0.9773\n",
      "Epoch 32/50\n",
      "1407/1407 [==============================] - 4s 3ms/step - loss: 0.0064 - accuracy: 0.9986 - val_loss: 0.3217 - val_accuracy: 0.9716\n",
      "Epoch 33/50\n",
      "1407/1407 [==============================] - 5s 3ms/step - loss: 0.0139 - accuracy: 0.9970 - val_loss: 0.2894 - val_accuracy: 0.9797\n",
      "Epoch 34/50\n",
      "1407/1407 [==============================] - 6s 5ms/step - loss: 0.0094 - accuracy: 0.9982 - val_loss: 0.2771 - val_accuracy: 0.9755\n",
      "Epoch 35/50\n",
      "1407/1407 [==============================] - 7s 5ms/step - loss: 0.0117 - accuracy: 0.9978 - val_loss: 0.3220 - val_accuracy: 0.9771\n",
      "Epoch 36/50\n",
      "1407/1407 [==============================] - 7s 5ms/step - loss: 0.0107 - accuracy: 0.9980 - val_loss: 0.3261 - val_accuracy: 0.9793\n",
      "Epoch 37/50\n",
      "1407/1407 [==============================] - 7s 5ms/step - loss: 0.0064 - accuracy: 0.9985 - val_loss: 0.3883 - val_accuracy: 0.9782\n",
      "Epoch 38/50\n",
      "1407/1407 [==============================] - 7s 5ms/step - loss: 0.0080 - accuracy: 0.9982 - val_loss: 0.4544 - val_accuracy: 0.9790\n",
      "Epoch 39/50\n",
      "1407/1407 [==============================] - 7s 5ms/step - loss: 0.0189 - accuracy: 0.9968 - val_loss: 0.3243 - val_accuracy: 0.9761\n",
      "Epoch 40/50\n",
      "1407/1407 [==============================] - 7s 5ms/step - loss: 0.0196 - accuracy: 0.9972 - val_loss: 0.2537 - val_accuracy: 0.9794\n",
      "Epoch 41/50\n",
      "1407/1407 [==============================] - 7s 5ms/step - loss: 0.0060 - accuracy: 0.9987 - val_loss: 0.3647 - val_accuracy: 0.9798\n",
      "Epoch 42/50\n",
      "1407/1407 [==============================] - 7s 5ms/step - loss: 0.0112 - accuracy: 0.9984 - val_loss: 0.2179 - val_accuracy: 0.9775\n",
      "Epoch 43/50\n",
      "1407/1407 [==============================] - 7s 5ms/step - loss: 0.0070 - accuracy: 0.9988 - val_loss: 0.3048 - val_accuracy: 0.9788\n",
      "Epoch 44/50\n",
      "1407/1407 [==============================] - 7s 5ms/step - loss: 0.0096 - accuracy: 0.9984 - val_loss: 0.3687 - val_accuracy: 0.9783\n",
      "Epoch 45/50\n",
      "1407/1407 [==============================] - 7s 5ms/step - loss: 0.0158 - accuracy: 0.9973 - val_loss: 0.4299 - val_accuracy: 0.9753\n",
      "Epoch 46/50\n",
      "1407/1407 [==============================] - 7s 5ms/step - loss: 0.0167 - accuracy: 0.9975 - val_loss: 0.4338 - val_accuracy: 0.9791\n",
      "Epoch 47/50\n",
      "1407/1407 [==============================] - 7s 5ms/step - loss: 0.0118 - accuracy: 0.9981 - val_loss: 0.4910 - val_accuracy: 0.9749\n",
      "Epoch 48/50\n",
      "1407/1407 [==============================] - 7s 5ms/step - loss: 0.0097 - accuracy: 0.9981 - val_loss: 0.4789 - val_accuracy: 0.9806\n",
      "Epoch 49/50\n",
      "1407/1407 [==============================] - 7s 5ms/step - loss: 0.0028 - accuracy: 0.9993 - val_loss: 0.5828 - val_accuracy: 0.9761\n",
      "Epoch 50/50\n",
      "1407/1407 [==============================] - 7s 5ms/step - loss: 0.0132 - accuracy: 0.9982 - val_loss: 0.6772 - val_accuracy: 0.9787\n",
      "313/313 [==============================] - 1s 2ms/step - loss: 0.1677 - accuracy: 0.9762\n"
     ]
    },
    {
     "data": {
      "text/plain": [
       "[0.16765132546424866, 0.9761999845504761]"
      ]
     },
     "execution_count": 38,
     "metadata": {},
     "output_type": "execute_result"
    }
   ],
   "source": [
    "model4_bp_cb = keras.callbacks.ModelCheckpoint(\"model4_bp.h5\", save_best_only=True)\n",
    "history4_mp = train_mlp((X_train_bp, y_train_bp), model4_bp, eps=50, val=(X_valid, y_valid), cbs=model4_bp_cb )\n",
    "model4_bp = keras.models.load_model(\"model4_bp.h5\")\n",
    "model4_bp.evaluate(X_test, y_test)"
   ]
  },
  {
   "cell_type": "code",
   "execution_count": 39,
   "metadata": {},
   "outputs": [
    {
     "name": "stdout",
     "output_type": "stream",
     "text": [
      "313/313 [==============================] - 0s 1ms/step - loss: 0.1677 - accuracy: 0.9762\n"
     ]
    },
    {
     "data": {
      "text/plain": [
       "[0.16765132546424866, 0.9761999845504761]"
      ]
     },
     "execution_count": 39,
     "metadata": {},
     "output_type": "execute_result"
    }
   ],
   "source": [
    "model4_bp.evaluate(X_test, y_test)"
   ]
  },
  {
   "cell_type": "code",
   "execution_count": 58,
   "metadata": {},
   "outputs": [
    {
     "name": "stdout",
     "output_type": "stream",
     "text": [
      "Epoch 1/50\n",
      "1407/1407 [==============================] - 4s 3ms/step - loss: 0.7347 - accuracy: 0.7972 - val_loss: 0.3987 - val_accuracy: 0.8860\n",
      "Epoch 2/50\n",
      "1407/1407 [==============================] - 5s 3ms/step - loss: 0.3229 - accuracy: 0.9062 - val_loss: 0.2993 - val_accuracy: 0.9093\n",
      "Epoch 3/50\n",
      "1407/1407 [==============================] - 6s 5ms/step - loss: 0.2475 - accuracy: 0.9262 - val_loss: 0.2559 - val_accuracy: 0.9240\n",
      "Epoch 4/50\n",
      "1407/1407 [==============================] - 6s 4ms/step - loss: 0.2045 - accuracy: 0.9384 - val_loss: 0.2395 - val_accuracy: 0.9277\n",
      "Epoch 5/50\n",
      "1407/1407 [==============================] - 6s 4ms/step - loss: 0.1785 - accuracy: 0.9459 - val_loss: 0.2182 - val_accuracy: 0.9335\n",
      "Epoch 6/50\n",
      "1407/1407 [==============================] - 6s 4ms/step - loss: 0.1565 - accuracy: 0.9533 - val_loss: 0.2042 - val_accuracy: 0.9388\n",
      "Epoch 7/50\n",
      "1407/1407 [==============================] - 6s 4ms/step - loss: 0.1397 - accuracy: 0.9570 - val_loss: 0.1941 - val_accuracy: 0.9413\n",
      "Epoch 8/50\n",
      "1407/1407 [==============================] - 6s 4ms/step - loss: 0.1257 - accuracy: 0.9611 - val_loss: 0.1896 - val_accuracy: 0.9430\n",
      "Epoch 9/50\n",
      "1407/1407 [==============================] - 6s 4ms/step - loss: 0.1131 - accuracy: 0.9653 - val_loss: 0.1804 - val_accuracy: 0.9451\n",
      "Epoch 10/50\n",
      "1407/1407 [==============================] - 6s 4ms/step - loss: 0.1014 - accuracy: 0.9693 - val_loss: 0.1721 - val_accuracy: 0.9475\n",
      "Epoch 11/50\n",
      "1407/1407 [==============================] - 6s 4ms/step - loss: 0.0919 - accuracy: 0.9716 - val_loss: 0.1679 - val_accuracy: 0.9498\n",
      "Epoch 12/50\n",
      "1407/1407 [==============================] - 6s 4ms/step - loss: 0.0825 - accuracy: 0.9742 - val_loss: 0.1606 - val_accuracy: 0.9510\n",
      "Epoch 13/50\n",
      "1407/1407 [==============================] - 6s 4ms/step - loss: 0.0762 - accuracy: 0.9770 - val_loss: 0.1598 - val_accuracy: 0.9524\n",
      "Epoch 14/50\n",
      "1407/1407 [==============================] - 5s 4ms/step - loss: 0.0694 - accuracy: 0.9789 - val_loss: 0.1550 - val_accuracy: 0.9556\n",
      "Epoch 15/50\n",
      "1407/1407 [==============================] - 5s 4ms/step - loss: 0.0630 - accuracy: 0.9806 - val_loss: 0.1520 - val_accuracy: 0.9558\n",
      "Epoch 16/50\n",
      "1407/1407 [==============================] - 5s 4ms/step - loss: 0.0576 - accuracy: 0.9821 - val_loss: 0.1495 - val_accuracy: 0.9570\n",
      "Epoch 17/50\n",
      "1407/1407 [==============================] - 5s 4ms/step - loss: 0.0503 - accuracy: 0.9848 - val_loss: 0.1490 - val_accuracy: 0.9576\n",
      "Epoch 18/50\n",
      "1407/1407 [==============================] - 5s 4ms/step - loss: 0.0470 - accuracy: 0.9857 - val_loss: 0.1504 - val_accuracy: 0.9574\n",
      "Epoch 19/50\n",
      "1407/1407 [==============================] - 5s 4ms/step - loss: 0.0426 - accuracy: 0.9870 - val_loss: 0.1519 - val_accuracy: 0.9580\n",
      "Epoch 20/50\n",
      "1407/1407 [==============================] - 5s 4ms/step - loss: 0.0389 - accuracy: 0.9880 - val_loss: 0.1543 - val_accuracy: 0.9582\n",
      "Epoch 21/50\n",
      "1407/1407 [==============================] - 5s 4ms/step - loss: 0.0354 - accuracy: 0.9894 - val_loss: 0.1483 - val_accuracy: 0.9580\n",
      "Epoch 22/50\n",
      "1407/1407 [==============================] - 5s 4ms/step - loss: 0.0325 - accuracy: 0.9906 - val_loss: 0.1521 - val_accuracy: 0.9576\n",
      "Epoch 23/50\n",
      "1407/1407 [==============================] - 5s 4ms/step - loss: 0.0336 - accuracy: 0.9895 - val_loss: 0.1548 - val_accuracy: 0.9588\n",
      "Epoch 24/50\n",
      "1407/1407 [==============================] - 5s 3ms/step - loss: 0.0299 - accuracy: 0.9910 - val_loss: 0.1472 - val_accuracy: 0.9585\n",
      "Epoch 25/50\n",
      "1407/1407 [==============================] - 5s 4ms/step - loss: 0.0286 - accuracy: 0.9914 - val_loss: 0.1491 - val_accuracy: 0.9592\n",
      "Epoch 26/50\n",
      "1407/1407 [==============================] - 5s 4ms/step - loss: 0.0278 - accuracy: 0.9911 - val_loss: 0.1507 - val_accuracy: 0.9589\n",
      "Epoch 27/50\n",
      "1407/1407 [==============================] - 5s 4ms/step - loss: 0.0256 - accuracy: 0.9920 - val_loss: 0.1512 - val_accuracy: 0.9599\n",
      "Epoch 28/50\n",
      "1407/1407 [==============================] - 5s 4ms/step - loss: 0.0235 - accuracy: 0.9928 - val_loss: 0.1544 - val_accuracy: 0.9594\n",
      "Epoch 29/50\n",
      "1407/1407 [==============================] - 5s 4ms/step - loss: 0.0209 - accuracy: 0.9935 - val_loss: 0.1457 - val_accuracy: 0.9609\n",
      "Epoch 30/50\n",
      "1407/1407 [==============================] - 6s 4ms/step - loss: 0.0197 - accuracy: 0.9938 - val_loss: 0.1476 - val_accuracy: 0.9615\n",
      "Epoch 31/50\n",
      "1407/1407 [==============================] - 6s 4ms/step - loss: 0.0196 - accuracy: 0.9940 - val_loss: 0.1531 - val_accuracy: 0.9600\n",
      "Epoch 32/50\n",
      "1407/1407 [==============================] - 6s 4ms/step - loss: 0.0180 - accuracy: 0.9945 - val_loss: 0.1525 - val_accuracy: 0.9614\n",
      "Epoch 33/50\n",
      "1407/1407 [==============================] - 6s 4ms/step - loss: 0.0174 - accuracy: 0.9947 - val_loss: 0.1498 - val_accuracy: 0.9609\n",
      "Epoch 34/50\n",
      "1407/1407 [==============================] - 6s 4ms/step - loss: 0.0180 - accuracy: 0.9943 - val_loss: 0.1469 - val_accuracy: 0.9634\n",
      "Epoch 35/50\n",
      "1407/1407 [==============================] - 6s 4ms/step - loss: 0.0199 - accuracy: 0.9935 - val_loss: 0.1508 - val_accuracy: 0.9621\n",
      "Epoch 36/50\n",
      "1407/1407 [==============================] - 6s 4ms/step - loss: 0.0180 - accuracy: 0.9938 - val_loss: 0.1511 - val_accuracy: 0.9625\n",
      "Epoch 37/50\n",
      "1407/1407 [==============================] - 6s 4ms/step - loss: 0.0179 - accuracy: 0.9943 - val_loss: 0.1463 - val_accuracy: 0.9627\n",
      "Epoch 38/50\n",
      "1407/1407 [==============================] - 6s 4ms/step - loss: 0.0138 - accuracy: 0.9962 - val_loss: 0.1506 - val_accuracy: 0.9625\n",
      "Epoch 39/50\n",
      "1407/1407 [==============================] - 6s 4ms/step - loss: 0.0147 - accuracy: 0.9955 - val_loss: 0.1542 - val_accuracy: 0.9627\n",
      "Epoch 40/50\n",
      "1407/1407 [==============================] - 5s 4ms/step - loss: 0.0124 - accuracy: 0.9963 - val_loss: 0.1486 - val_accuracy: 0.9649\n",
      "Epoch 41/50\n",
      "1407/1407 [==============================] - 5s 4ms/step - loss: 0.0129 - accuracy: 0.9960 - val_loss: 0.1524 - val_accuracy: 0.9643\n",
      "Epoch 42/50\n",
      "1407/1407 [==============================] - 5s 4ms/step - loss: 0.0106 - accuracy: 0.9970 - val_loss: 0.1503 - val_accuracy: 0.9640\n",
      "Epoch 43/50\n",
      "1407/1407 [==============================] - 5s 4ms/step - loss: 0.0091 - accuracy: 0.9974 - val_loss: 0.1456 - val_accuracy: 0.9647\n",
      "Epoch 44/50\n",
      "1407/1407 [==============================] - 5s 4ms/step - loss: 0.0119 - accuracy: 0.9962 - val_loss: 0.1479 - val_accuracy: 0.9653\n",
      "Epoch 45/50\n",
      "1407/1407 [==============================] - 5s 4ms/step - loss: 0.0100 - accuracy: 0.9971 - val_loss: 0.1478 - val_accuracy: 0.9650\n",
      "Epoch 46/50\n",
      "1407/1407 [==============================] - 5s 4ms/step - loss: 0.0076 - accuracy: 0.9980 - val_loss: 0.1461 - val_accuracy: 0.9665\n",
      "Epoch 47/50\n",
      "1407/1407 [==============================] - 5s 4ms/step - loss: 0.0090 - accuracy: 0.9975 - val_loss: 0.1462 - val_accuracy: 0.9655\n",
      "Epoch 48/50\n",
      "1407/1407 [==============================] - 5s 4ms/step - loss: 0.0083 - accuracy: 0.9975 - val_loss: 0.1458 - val_accuracy: 0.9673\n",
      "Epoch 49/50\n",
      "1407/1407 [==============================] - 5s 4ms/step - loss: 0.0084 - accuracy: 0.9973 - val_loss: 0.1507 - val_accuracy: 0.9662\n",
      "Epoch 50/50\n",
      "1407/1407 [==============================] - 5s 4ms/step - loss: 0.0101 - accuracy: 0.9968 - val_loss: 0.1581 - val_accuracy: 0.9644\n",
      "313/313 [==============================] - 1s 2ms/step - loss: 0.1378 - accuracy: 0.9666\n"
     ]
    },
    {
     "data": {
      "text/plain": [
       "[0.13775146007537842, 0.9666000008583069]"
      ]
     },
     "execution_count": 58,
     "metadata": {},
     "output_type": "execute_result"
    }
   ],
   "source": [
    "\n",
    "q_opt = keras.optimizers.Adam(learning_rate = 0.00005)\n",
    "\n",
    "\n",
    "model4_bp = basic_mlp_mnist( n_hidden_layers=5, l_neurons=[300,300,100,100,100], opt=q_opt, h_activ=\"tanh\")\n",
    "history1 = train_mlp((X_train_bp, y_train_bp), model4_bp, val=(X_valid, y_valid), eps=50)\n",
    "model4_bp.evaluate(X_test, y_test)\n"
   ]
  },
  {
   "cell_type": "code",
   "execution_count": 26,
   "metadata": {},
   "outputs": [
    {
     "name": "stdout",
     "output_type": "stream",
     "text": [
      "Epoch 1/25\n",
      "1875/1875 [==============================] - 4s 2ms/step - loss: 1.0485 - accuracy: 0.8665\n",
      "Epoch 2/25\n",
      "1875/1875 [==============================] - 4s 2ms/step - loss: 0.2389 - accuracy: 0.9352\n",
      "Epoch 3/25\n",
      "1875/1875 [==============================] - 4s 2ms/step - loss: 0.1735 - accuracy: 0.9499\n",
      "Epoch 4/25\n",
      "1875/1875 [==============================] - 5s 2ms/step - loss: 0.1456 - accuracy: 0.9585\n",
      "Epoch 5/25\n",
      "1875/1875 [==============================] - 5s 2ms/step - loss: 0.1303 - accuracy: 0.9628\n",
      "Epoch 6/25\n",
      "1875/1875 [==============================] - 5s 3ms/step - loss: 0.1135 - accuracy: 0.9677\n",
      "Epoch 7/25\n",
      "1875/1875 [==============================] - 5s 3ms/step - loss: 0.1004 - accuracy: 0.9711\n",
      "Epoch 8/25\n",
      "1875/1875 [==============================] - 5s 3ms/step - loss: 0.0916 - accuracy: 0.9739\n",
      "Epoch 9/25\n",
      "1875/1875 [==============================] - 5s 3ms/step - loss: 0.0869 - accuracy: 0.9747\n",
      "Epoch 10/25\n",
      "1875/1875 [==============================] - 4s 2ms/step - loss: 0.0790 - accuracy: 0.9780\n",
      "Epoch 11/25\n",
      "1875/1875 [==============================] - 5s 2ms/step - loss: 0.0740 - accuracy: 0.9799\n",
      "Epoch 12/25\n",
      "1875/1875 [==============================] - 4s 2ms/step - loss: 0.0716 - accuracy: 0.9805\n",
      "Epoch 13/25\n",
      "1875/1875 [==============================] - 5s 2ms/step - loss: 0.0646 - accuracy: 0.9826\n",
      "Epoch 14/25\n",
      "1875/1875 [==============================] - 5s 3ms/step - loss: 0.0596 - accuracy: 0.9836\n",
      "Epoch 15/25\n",
      "1875/1875 [==============================] - 5s 2ms/step - loss: 0.0602 - accuracy: 0.9840\n",
      "Epoch 16/25\n",
      "1875/1875 [==============================] - 5s 3ms/step - loss: 0.0576 - accuracy: 0.9849\n",
      "Epoch 17/25\n",
      "1875/1875 [==============================] - 5s 2ms/step - loss: 0.0568 - accuracy: 0.9855\n",
      "Epoch 18/25\n",
      "1875/1875 [==============================] - 5s 3ms/step - loss: 0.0521 - accuracy: 0.9862\n",
      "Epoch 19/25\n",
      "1875/1875 [==============================] - 5s 3ms/step - loss: 0.0498 - accuracy: 0.9872\n",
      "Epoch 20/25\n",
      "1875/1875 [==============================] - 5s 3ms/step - loss: 0.0478 - accuracy: 0.9881\n",
      "Epoch 21/25\n",
      "1875/1875 [==============================] - 5s 3ms/step - loss: 0.0509 - accuracy: 0.9878\n",
      "Epoch 22/25\n",
      "1875/1875 [==============================] - 5s 3ms/step - loss: 0.0429 - accuracy: 0.9889\n",
      "Epoch 23/25\n",
      "1875/1875 [==============================] - 5s 2ms/step - loss: 0.0462 - accuracy: 0.9884\n",
      "Epoch 24/25\n",
      "1875/1875 [==============================] - 5s 2ms/step - loss: 0.0414 - accuracy: 0.9903\n",
      "Epoch 25/25\n",
      "1875/1875 [==============================] - 5s 2ms/step - loss: 0.0417 - accuracy: 0.9899\n",
      "313/313 [==============================] - 0s 1ms/step - loss: 0.1703 - accuracy: 0.9734\n"
     ]
    },
    {
     "data": {
      "text/plain": [
       "[0.17026759684085846, 0.9733999967575073]"
      ]
     },
     "execution_count": 26,
     "metadata": {},
     "output_type": "execute_result"
    }
   ],
   "source": [
    "model5 = basic_mlp_mnist( n_hidden_layers=3, l_neurons=[100,100,100])\n",
    "history5 = train_mlp((X_train, y_train), model5)\n",
    "model5.evaluate(X_test, y_test)"
   ]
  },
  {
   "cell_type": "code",
   "execution_count": 27,
   "metadata": {},
   "outputs": [
    {
     "name": "stdout",
     "output_type": "stream",
     "text": [
      "313/313 [==============================] - 0s 1ms/step - loss: 0.1703 - accuracy: 0.9734\n"
     ]
    },
    {
     "data": {
      "text/plain": [
       "[0.17026759684085846, 0.9733999967575073]"
      ]
     },
     "execution_count": 27,
     "metadata": {},
     "output_type": "execute_result"
    }
   ],
   "source": [
    "model5.evaluate(X_test, y_test)"
   ]
  },
  {
   "cell_type": "code",
   "execution_count": 28,
   "metadata": {},
   "outputs": [
    {
     "name": "stdout",
     "output_type": "stream",
     "text": [
      "Epoch 1/25\n",
      "1875/1875 [==============================] - 6s 3ms/step - loss: 1.6232 - accuracy: 0.8958\n",
      "Epoch 2/25\n",
      "1875/1875 [==============================] - 5s 3ms/step - loss: 0.2161 - accuracy: 0.9451\n",
      "Epoch 3/25\n",
      "1875/1875 [==============================] - 5s 3ms/step - loss: 0.1636 - accuracy: 0.9559\n",
      "Epoch 4/25\n",
      "1875/1875 [==============================] - 5s 3ms/step - loss: 0.1515 - accuracy: 0.9588\n",
      "Epoch 5/25\n",
      "1875/1875 [==============================] - 6s 3ms/step - loss: 0.1408 - accuracy: 0.9622\n",
      "Epoch 6/25\n",
      "1875/1875 [==============================] - 5s 3ms/step - loss: 0.1219 - accuracy: 0.9683\n",
      "Epoch 7/25\n",
      "1875/1875 [==============================] - 5s 3ms/step - loss: 0.1089 - accuracy: 0.9715\n",
      "Epoch 8/25\n",
      "1875/1875 [==============================] - 5s 3ms/step - loss: 0.1011 - accuracy: 0.9740\n",
      "Epoch 9/25\n",
      "1875/1875 [==============================] - 5s 3ms/step - loss: 0.0925 - accuracy: 0.9768\n",
      "Epoch 10/25\n",
      "1875/1875 [==============================] - 5s 3ms/step - loss: 0.0858 - accuracy: 0.9779\n",
      "Epoch 11/25\n",
      "1875/1875 [==============================] - 5s 3ms/step - loss: 0.0920 - accuracy: 0.9793\n",
      "Epoch 12/25\n",
      "1875/1875 [==============================] - 5s 3ms/step - loss: 0.0726 - accuracy: 0.9812\n",
      "Epoch 13/25\n",
      "1875/1875 [==============================] - 5s 3ms/step - loss: 0.0690 - accuracy: 0.9826\n",
      "Epoch 14/25\n",
      "1875/1875 [==============================] - 5s 3ms/step - loss: 0.0727 - accuracy: 0.9832\n",
      "Epoch 15/25\n",
      "1875/1875 [==============================] - 5s 3ms/step - loss: 0.0701 - accuracy: 0.9834\n",
      "Epoch 16/25\n",
      "1875/1875 [==============================] - 6s 3ms/step - loss: 0.0626 - accuracy: 0.9854\n",
      "Epoch 17/25\n",
      "1875/1875 [==============================] - 6s 3ms/step - loss: 0.0613 - accuracy: 0.9854\n",
      "Epoch 18/25\n",
      "1875/1875 [==============================] - 5s 3ms/step - loss: 0.0643 - accuracy: 0.9857\n",
      "Epoch 19/25\n",
      "1875/1875 [==============================] - 5s 3ms/step - loss: 0.0627 - accuracy: 0.9865\n",
      "Epoch 20/25\n",
      "1875/1875 [==============================] - 5s 3ms/step - loss: 0.0620 - accuracy: 0.9870\n",
      "Epoch 21/25\n",
      "1875/1875 [==============================] - 5s 3ms/step - loss: 0.0611 - accuracy: 0.9867\n",
      "Epoch 22/25\n",
      "1875/1875 [==============================] - 6s 3ms/step - loss: 0.0592 - accuracy: 0.9879\n",
      "Epoch 23/25\n",
      "1875/1875 [==============================] - 5s 3ms/step - loss: 0.0597 - accuracy: 0.9887\n",
      "Epoch 24/25\n",
      "1875/1875 [==============================] - 6s 3ms/step - loss: 0.0587 - accuracy: 0.9877\n",
      "Epoch 25/25\n",
      "1875/1875 [==============================] - 5s 3ms/step - loss: 0.0565 - accuracy: 0.9890\n",
      "313/313 [==============================] - 1s 2ms/step - loss: 0.3244 - accuracy: 0.9731\n"
     ]
    },
    {
     "data": {
      "text/plain": [
       "[0.32435357570648193, 0.9731000065803528]"
      ]
     },
     "execution_count": 28,
     "metadata": {},
     "output_type": "execute_result"
    }
   ],
   "source": [
    "model6 = basic_mlp_mnist( n_hidden_layers=2, l_neurons=[300,300])\n",
    "history6 = train_mlp((X_train, y_train), model6)\n",
    "model6.evaluate(X_test, y_test)"
   ]
  },
  {
   "cell_type": "code",
   "execution_count": 29,
   "metadata": {},
   "outputs": [
    {
     "name": "stdout",
     "output_type": "stream",
     "text": [
      "Epoch 1/25\n",
      "1875/1875 [==============================] - 5s 3ms/step - loss: 1.1915 - accuracy: 0.7500\n",
      "Epoch 2/25\n",
      "1875/1875 [==============================] - 5s 3ms/step - loss: 0.3701 - accuracy: 0.9054\n",
      "Epoch 3/25\n",
      "1875/1875 [==============================] - 5s 3ms/step - loss: 0.2324 - accuracy: 0.9407\n",
      "Epoch 4/25\n",
      "1875/1875 [==============================] - 4s 2ms/step - loss: 0.1783 - accuracy: 0.9519\n",
      "Epoch 5/25\n",
      "1875/1875 [==============================] - 4s 2ms/step - loss: 0.1475 - accuracy: 0.9607\n",
      "Epoch 6/25\n",
      "1875/1875 [==============================] - 4s 2ms/step - loss: 0.1244 - accuracy: 0.9667\n",
      "Epoch 7/25\n",
      "1875/1875 [==============================] - 4s 2ms/step - loss: 0.1072 - accuracy: 0.9708\n",
      "Epoch 8/25\n",
      "1875/1875 [==============================] - 5s 3ms/step - loss: 0.0921 - accuracy: 0.9756\n",
      "Epoch 9/25\n",
      "1875/1875 [==============================] - 5s 3ms/step - loss: 0.0906 - accuracy: 0.9758\n",
      "Epoch 10/25\n",
      "1875/1875 [==============================] - 4s 2ms/step - loss: 0.0817 - accuracy: 0.9792\n",
      "Epoch 11/25\n",
      "1875/1875 [==============================] - 5s 3ms/step - loss: 0.0823 - accuracy: 0.9800\n",
      "Epoch 12/25\n",
      "1875/1875 [==============================] - 5s 3ms/step - loss: 0.0749 - accuracy: 0.9817\n",
      "Epoch 13/25\n",
      "1875/1875 [==============================] - 5s 3ms/step - loss: 0.0639 - accuracy: 0.9834\n",
      "Epoch 14/25\n",
      "1875/1875 [==============================] - 5s 3ms/step - loss: 0.0642 - accuracy: 0.9841\n",
      "Epoch 15/25\n",
      "1875/1875 [==============================] - 5s 3ms/step - loss: 0.0649 - accuracy: 0.9848\n",
      "Epoch 16/25\n",
      "1875/1875 [==============================] - 5s 2ms/step - loss: 0.0599 - accuracy: 0.9849\n",
      "Epoch 17/25\n",
      "1875/1875 [==============================] - 5s 3ms/step - loss: 0.0639 - accuracy: 0.9848\n",
      "Epoch 18/25\n",
      "1875/1875 [==============================] - 5s 3ms/step - loss: 0.0580 - accuracy: 0.9867\n",
      "Epoch 19/25\n",
      "1875/1875 [==============================] - 5s 3ms/step - loss: 0.0557 - accuracy: 0.9865\n",
      "Epoch 20/25\n",
      "1875/1875 [==============================] - 5s 3ms/step - loss: 0.0549 - accuracy: 0.9869\n",
      "Epoch 21/25\n",
      "1875/1875 [==============================] - 5s 3ms/step - loss: 0.0599 - accuracy: 0.9869\n",
      "Epoch 22/25\n",
      "1875/1875 [==============================] - 5s 3ms/step - loss: 0.0526 - accuracy: 0.9883\n",
      "Epoch 23/25\n",
      "1875/1875 [==============================] - 5s 3ms/step - loss: 0.0506 - accuracy: 0.9887\n",
      "Epoch 24/25\n",
      "1875/1875 [==============================] - 5s 2ms/step - loss: 0.0518 - accuracy: 0.9883\n",
      "Epoch 25/25\n",
      "1875/1875 [==============================] - 5s 2ms/step - loss: 0.0580 - accuracy: 0.9872\n",
      "313/313 [==============================] - 0s 2ms/step - loss: 0.2814 - accuracy: 0.9676\n"
     ]
    },
    {
     "data": {
      "text/plain": [
       "[0.2814026474952698, 0.9675999879837036]"
      ]
     },
     "execution_count": 29,
     "metadata": {},
     "output_type": "execute_result"
    }
   ],
   "source": [
    "model6 = basic_mlp_mnist( n_hidden_layers=2, l_neurons=[300,50])\n",
    "history6 = train_mlp((X_train, y_train), model6)\n",
    "model6.evaluate(X_test, y_test)"
   ]
  },
  {
   "cell_type": "code",
   "execution_count": null,
   "metadata": {},
   "outputs": [],
   "source": []
  }
 ],
 "metadata": {
  "kernelspec": {
   "display_name": "Python 3",
   "language": "python",
   "name": "python3"
  },
  "language_info": {
   "codemirror_mode": {
    "name": "ipython",
    "version": 3
   },
   "file_extension": ".py",
   "mimetype": "text/x-python",
   "name": "python",
   "nbconvert_exporter": "python",
   "pygments_lexer": "ipython3",
   "version": "3.8.3"
  }
 },
 "nbformat": 4,
 "nbformat_minor": 4
}
